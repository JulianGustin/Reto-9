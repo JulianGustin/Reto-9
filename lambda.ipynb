{
 "cells": [
  {
   "cell_type": "markdown",
   "metadata": {},
   "source": [
    "# Funcion #1: Reto 6 (Carne)\n",
    "***\n",
    "### Funcion original"
   ]
  },
  {
   "cell_type": "code",
   "execution_count": null,
   "metadata": {},
   "outputs": [],
   "source": [
    "def peso_aves(n:float, m:float, k:float ) -> float: \n",
    "    pesoN = n*6\n",
    "    pesoM = m*7 \n",
    "    pesoK = k*1\n",
    "    pesoTotal = pesoN + pesoM + pesoK \n",
    "    return pesoTotal "
   ]
  },
  {
   "cell_type": "markdown",
   "metadata": {},
   "source": [
    "***\n",
    "### Funcion en Lambda"
   ]
  },
  {
   "cell_type": "code",
   "execution_count": null,
   "metadata": {},
   "outputs": [],
   "source": [
    "if __name__ == \"__main__\":\n",
    "    n = float(input(\"Ingrese el número de gallinas: \"))  # Entrada del número de gallinas\n",
    "    m = float(input(\"Ingrese el número de gallos: \"))  # Entrada del número de gallos\n",
    "    k = float(input(\"Ingrese el número de pollitos: \"))  # Entrada del número de pollitos\n",
    "\n",
    "    cantidadCarne = (lambda n, m, k: n * 6 + m * 7 + k * 1 )(n, m, k)  # Funcion de calculo peso total lambda \n",
    "    print(\"La cantidad de carne en kilos es:\", cantidadCarne)  # Salida del resultado"
   ]
  },
  {
   "cell_type": "markdown",
   "metadata": {},
   "source": [
    "***\n",
    "# Funcion #2: Reto 6 (Compra)\n",
    "***\n",
    "### Funcion original"
   ]
  },
  {
   "cell_type": "code",
   "execution_count": null,
   "metadata": {},
   "outputs": [],
   "source": [
    "def precio_compra(p:float, m:float, h:float ) -> float: \n",
    "    precioP = p*300\n",
    "    precioM = m*3300 \n",
    "    precioH = h*350\n",
    "    precioTotal = precioP + precioM + precioH\n",
    "    return precioTotal "
   ]
  },
  {
   "cell_type": "markdown",
   "metadata": {},
   "source": [
    "***\n",
    "### Funcion en Lambda\n"
   ]
  },
  {
   "cell_type": "code",
   "execution_count": null,
   "metadata": {},
   "outputs": [],
   "source": [
    "if __name__ == \"__main__\": \n",
    "    p = float(input(\"Ingrese el numero de panes a comprar: \"))\n",
    "    m = float(input(\"Ingrese el numero de bolsas de leche a comprar: \"))\n",
    "    h = float(input(\"Ingrese el numero de huevos a comprar: \"))\n",
    "    B = float(input(\"Ingrese cuánta plata le da su mamá: \"))\n",
    "\n",
    "    precio = (lambda p, m, h: p * 300 + m * 3300 + h * 350)(p,m,h)\n",
    "\n",
    "    resultado = B - precio\n",
    "    if resultado < 0:\n",
    "        print(\"Quedó debiendo \", (resultado*-1), \"pesos\")\n",
    "    elif resultado > 0:\n",
    "        print(\"Le sobraron \", resultado, \"pesos\")\n",
    "    else:\n",
    "        print(\"Issss, exactico.\")\n"
   ]
  },
  {
   "cell_type": "markdown",
   "metadata": {},
   "source": [
    "***\n",
    "# Funcion 3 : Reto 6 (Prestamo)\n",
    "***\n",
    "### Funcion original\n"
   ]
  },
  {
   "cell_type": "code",
   "execution_count": null,
   "metadata": {},
   "outputs": [],
   "source": [
    "def valor_prestamo(C:float, i:float, n:float) ->float: \n",
    "    valor = C * (1 + i)**n\n",
    "    return valor"
   ]
  },
  {
   "cell_type": "markdown",
   "metadata": {},
   "source": [
    "***\n",
    "### Funcion en Lambda"
   ]
  },
  {
   "cell_type": "code",
   "execution_count": null,
   "metadata": {},
   "outputs": [],
   "source": [
    "if __name__ == \"__main__\":\n",
    "    \n",
    "    C = float(input(\"Ingrese el monto del prestamo: \"))\n",
    "    i = float(input(\"Ingrese la tasa de interes mensual (decimal) \"))\n",
    "    n = int(input(\"Ingrese el numero de meses: \"))\n",
    "\n",
    "    valor_final = (lambda C, i, n: C * (1 + i)**n)(C, i, n)\n",
    "\n",
    "    print(\"El valor de su prestamo después de \", n, \"meses será de \", valor_final)"
   ]
  }
 ],
 "metadata": {
  "kernelspec": {
   "display_name": "Python 3",
   "language": "python",
   "name": "python3"
  },
  "language_info": {
   "codemirror_mode": {
    "name": "ipython",
    "version": 3
   },
   "file_extension": ".py",
   "mimetype": "text/x-python",
   "name": "python",
   "nbconvert_exporter": "python",
   "pygments_lexer": "ipython3",
   "version": "3.12.3"
  }
 },
 "nbformat": 4,
 "nbformat_minor": 2
}
