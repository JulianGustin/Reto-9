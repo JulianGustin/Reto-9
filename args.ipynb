{
 "cells": [
  {
   "cell_type": "markdown",
   "metadata": {},
   "source": [
    "# Funcion 1 : Reto 6 (promedio)\n",
    "### Funcion original"
   ]
  },
  {
   "cell_type": "code",
   "execution_count": null,
   "metadata": {},
   "outputs": [],
   "source": [
    "def promedio(n1:float, n2:float, n3:float, n4:float, n5:float) ->float:\n",
    "    promedio = (n1+n2+n3+n4+n5)/5\n",
    "    return promedio"
   ]
  },
  {
   "cell_type": "markdown",
   "metadata": {},
   "source": [
    "### Funcion con argumentos no definidos"
   ]
  },
  {
   "cell_type": "code",
   "execution_count": null,
   "metadata": {},
   "outputs": [],
   "source": [
    "def promedio(*args) ->float:\n",
    "    suma = 0\n",
    "    c = 0\n",
    "    for n in args: \n",
    "        suma += n\n",
    "        c += 1\n",
    "    promedio = suma/c\n",
    "    return promedio\n",
    "\n",
    "prom = promedio(1,2,3,4,5)\n",
    "print(prom)\n",
    "    \n"
   ]
  },
  {
   "cell_type": "markdown",
   "metadata": {},
   "source": [
    "***\n",
    "# Funcion 2: Reto 6 (Promedio Multiplicativo)\n",
    "### Funcion original"
   ]
  },
  {
   "cell_type": "code",
   "execution_count": null,
   "metadata": {},
   "outputs": [],
   "source": [
    "def promedio_multiplicativo(n1, n2, n3, n4, n5) ->float:\n",
    "    multi : float = n1, n2, n3, n4, n5\n",
    "    promedioMulti = multi**(1/5)\n",
    "    return promedioMulti\n"
   ]
  },
  {
   "cell_type": "markdown",
   "metadata": {},
   "source": [
    "### Funcion con argumentos no definidos\n"
   ]
  },
  {
   "cell_type": "code",
   "execution_count": 7,
   "metadata": {},
   "outputs": [
    {
     "name": "stdout",
     "output_type": "stream",
     "text": [
      "1.8171205928321397\n"
     ]
    }
   ],
   "source": [
    "def promedio_multiplicativo(*args) ->float:\n",
    "    producto = 1\n",
    "    c = 0\n",
    "    for n in args:\n",
    "        producto *= n\n",
    "        c += 1\n",
    "    promedio_multiplicativo = producto ** (1/c)\n",
    "    return promedio_multiplicativo\n",
    "\n",
    "prom_multi = promedio_multiplicativo(1, 2, 3)  \n",
    "print(prom_multi) "
   ]
  },
  {
   "cell_type": "markdown",
   "metadata": {},
   "source": [
    "***\n",
    "# Funcion 3 : Reto 6 (Ordenar)\n",
    "### Funcion original"
   ]
  },
  {
   "cell_type": "code",
   "execution_count": null,
   "metadata": {},
   "outputs": [],
   "source": [
    "def ordernar(n1:float, n2:float, n3:float, n4:float, n5:float) ->float:\n",
    "    if n1 > n2:\n",
    "        n1, n2 = n2, n1\n",
    "    if n1 > n3:\n",
    "        n1, n3 = n3, n1\n",
    "    if n1 > n4:\n",
    "        n1, n4 = n4, n1\n",
    "    if n1 > n5:\n",
    "        n1, n5 = n5, n1\n",
    "    if n2 > n3:\n",
    "        n2, n3 = n3, n2\n",
    "    if n2 > n4:\n",
    "        n2, n4 = n4, n2\n",
    "    if n2 > n5:\n",
    "        n2, n5 = n5, n2\n",
    "    if n3 > n4:\n",
    "        n3, n4 = n4, n3\n",
    "    if n3 > n5:\n",
    "        n3, n5 = n5, n3\n",
    "    if n4 > n5:\n",
    "        n4, n5 = n5, n4\n",
    "    \n",
    "    return n1, n2, n3, n4, n5\n"
   ]
  },
  {
   "cell_type": "markdown",
   "metadata": {},
   "source": [
    "***\n",
    "### Funcion con args\n"
   ]
  },
  {
   "cell_type": "code",
   "execution_count": 1,
   "metadata": {},
   "outputs": [],
   "source": [
    "def ordenar(*args):\n",
    "    numeros = list(args)\n",
    "    return numeros.sort"
   ]
  }
 ],
 "metadata": {
  "kernelspec": {
   "display_name": "Python 3",
   "language": "python",
   "name": "python3"
  },
  "language_info": {
   "codemirror_mode": {
    "name": "ipython",
    "version": 3
   },
   "file_extension": ".py",
   "mimetype": "text/x-python",
   "name": "python",
   "nbconvert_exporter": "python",
   "pygments_lexer": "ipython3",
   "version": "3.12.3"
  }
 },
 "nbformat": 4,
 "nbformat_minor": 2
}
